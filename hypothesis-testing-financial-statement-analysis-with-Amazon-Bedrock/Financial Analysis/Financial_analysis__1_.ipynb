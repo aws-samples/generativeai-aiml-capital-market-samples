{
 "cells": [
  {
   "cell_type": "markdown",
   "id": "3fcc7922-f692-4197-88e6-2885efddf74b",
   "metadata": {},
   "source": [
    "# Financial data analysis with Anthropic Claude 3 Sonnet in Amazon Bedrock"
   ]
  },
  {
   "cell_type": "markdown",
   "id": "c19b5666-81db-402f-928f-7f5b229d4a90",
   "metadata": {},
   "source": [
    "### Introduction\n",
    "In this notebook, we will show you how to use Anthropic Claude 3 vision capabilities to prompt an image and get useful insights from it. \n",
    "We'll be utilizing Bedrock's Claude v3 Sonnet through the Boto3 API.\n",
    "The prompt used in this example is called a zero-shot prompt because we are not providing any examples of text other than the prompt."
   ]
  },
  {
   "cell_type": "markdown",
   "id": "52ffdb7c-ac0d-45f8-bef6-862cbc77e947",
   "metadata": {},
   "source": [
    "### Prerequisites\n",
    "Run the cells in this section to install the packages needed by this notebook"
   ]
  },
  {
   "cell_type": "code",
   "execution_count": null,
   "id": "7ae35f06-54a0-45a4-b5ba-015a76f26a72",
   "metadata": {},
   "outputs": [],
   "source": [
    "%pip install --no-build-isolation --force-reinstall \\\n",
    "    \"boto3>=1.28.57\" \\\n",
    "    \"awscli>=1.29.57\" \\\n",
    "    \"botocore>=1.31.57\""
   ]
  },
  {
   "cell_type": "markdown",
   "id": "d6de1a30-44b7-44c7-af1d-228604569c57",
   "metadata": {},
   "source": [
    "### Setup\n",
    "Add the import statements and the file and image processing helper functions."
   ]
  },
  {
   "cell_type": "code",
   "execution_count": 2,
   "id": "e0b8af66-50b3-4032-963a-6d73d8980ab9",
   "metadata": {
    "tags": []
   },
   "outputs": [],
   "source": [
    "import boto3\n",
    "import json\n",
    "import base64\n",
    "from io import BytesIO"
   ]
  },
  {
   "cell_type": "markdown",
   "id": "0514b0db-ae78-42d5-9f7c-2d27cbbba31d",
   "metadata": {},
   "source": [
    "### Create a Class that can store image and text messages\n",
    "<li> MAX_MESSAGES sets the upper limit for previous chat messages kept in memory. </li>"
   ]
  },
  {
   "cell_type": "code",
   "execution_count": 3,
   "id": "e94b1670-a0a0-4f93-83f5-54eb56d6cad8",
   "metadata": {
    "tags": []
   },
   "outputs": [],
   "source": [
    "MAX_MESSAGES = 20\n",
    "\n",
    "class ChatMessage():\n",
    "    def __init__(self, role, message_type, text, bytesio=None):\n",
    "        self.role = role\n",
    "        self.message_type = message_type\n",
    "        self.text = text\n",
    "        self.bytesio = bytesio"
   ]
  },
  {
   "cell_type": "markdown",
   "id": "e6f01f0e-c3f4-4b38-afa9-0cf84bc134c0",
   "metadata": {},
   "source": [
    "### Define some helper functions\n",
    "<li> These statements allow us to use the Boto3 library to call Bedrock, and process image data. </li>\n",
    "<li> The helper functions are used to convert data between files, images, and base64-encoded bytes. </li>"
   ]
  },
  {
   "cell_type": "code",
   "execution_count": 4,
   "id": "0cea39b5-57cc-40e3-8596-2c00eb530fa2",
   "metadata": {
    "tags": []
   },
   "outputs": [],
   "source": [
    "\n",
    "#get a BytesIO object from file bytes\n",
    "def get_bytesio_from_bytes(image_bytes):\n",
    "    image_io = BytesIO(image_bytes)\n",
    "    return image_io\n",
    "\n",
    "#get a base64-encoded string from file bytes\n",
    "def get_base64_from_bytes(image_bytes):\n",
    "    resized_io = get_bytesio_from_bytes(image_bytes)\n",
    "    img_str = base64.b64encode(resized_io.getvalue()).decode(\"utf-8\")\n",
    "    return img_str\n",
    "\n",
    "#load the bytes from a file on disk\n",
    "def get_bytes_from_file(file_path):\n",
    "    with open(file_path, \"rb\") as image_file:\n",
    "        file_bytes = image_file.read()\n",
    "    return file_bytes\n",
    "    "
   ]
  },
  {
   "cell_type": "markdown",
   "id": "6294a77c-d103-4322-986d-54e5d80db520",
   "metadata": {},
   "source": [
    "### Function to convert ChatMessages to the Claude 3 Messages API format.\n",
    "<li> This format allows us to send a list of current and past messages to Claude 3 for processing. </li>"
   ]
  },
  {
   "cell_type": "code",
   "execution_count": 5,
   "id": "15c91bc2-ae6a-4a1f-9611-d207d2af64ab",
   "metadata": {
    "tags": []
   },
   "outputs": [],
   "source": [
    "def convert_chat_messages_to_messages_api(chat_messages):\n",
    "    \n",
    "    messages = []\n",
    "    \n",
    "    for chat_msg in chat_messages:\n",
    "        if (chat_msg.message_type == 'image'):\n",
    "            messages.append({\n",
    "                \"role\": \"user\",\n",
    "                \"content\": [\n",
    "                    {\n",
    "                        \"type\": \"image\",\n",
    "                        \"source\": {\n",
    "                            \"type\": \"base64\",\n",
    "                            \"media_type\": \"image/jpeg\",\n",
    "                            \"data\": chat_msg.text,\n",
    "                        },\n",
    "                    }\n",
    "                ]\n",
    "            })\n",
    "        else:\n",
    "            messages.append({\n",
    "                \"role\": chat_msg.role,\n",
    "                \"content\": [\n",
    "                    {\n",
    "                        \"type\": \"text\",\n",
    "                        \"text\": chat_msg.text\n",
    "                    }\n",
    "                ]\n",
    "            })\n",
    "            \n",
    "    return messages\n",
    "\n"
   ]
  },
  {
   "cell_type": "markdown",
   "id": "a275a25d-0e4b-4438-804d-b9ffc1554da6",
   "metadata": {},
   "source": [
    "### Request body builder function\n",
    "<li> Function prepares the request payload for submission to Bedrock </li>\n",
    "<li> Get the stringified request body for the InvokeModel API call </li>"
   ]
  },
  {
   "cell_type": "code",
   "execution_count": 6,
   "id": "2d132358-c3e9-4580-9fee-862dae5cf164",
   "metadata": {
    "tags": []
   },
   "outputs": [],
   "source": [
    "\n",
    "def get_multimodal_chat_request_body(chat_messages):\n",
    "    \n",
    "    messages = convert_chat_messages_to_messages_api(chat_messages)\n",
    "    \n",
    "    body = {\n",
    "        \"anthropic_version\": \"bedrock-2023-05-31\",\n",
    "        \"max_tokens\": 40000,\n",
    "        \"temperature\": 0,\n",
    "        \"messages\": messages,\n",
    "    }\n",
    "    \n",
    "    return json.dumps(body)\n",
    "\n"
   ]
  },
  {
   "cell_type": "markdown",
   "id": "1c2feebe-b331-4c00-a9b2-b54d97e1638c",
   "metadata": {},
   "source": [
    "### Function to generate a response using Anthropic Claude"
   ]
  },
  {
   "cell_type": "code",
   "execution_count": 7,
   "id": "a0c53e5c-7ac4-43a6-9bc2-40dc4dc89d79",
   "metadata": {
    "tags": []
   },
   "outputs": [],
   "source": [
    "\n",
    "def chat_with_model(message_history, new_text=None, new_image_bytes=None):\n",
    "    session = boto3.Session()\n",
    "    \n",
    "    bedrock = session.client(service_name='bedrock-runtime') #creates a Bedrock client\n",
    "    \n",
    "    if new_text:\n",
    "        new_text_message = ChatMessage('user', 'text', text=new_text)\n",
    "        message_history.append(new_text_message)\n",
    "        \n",
    "    elif new_image_bytes:\n",
    "        image_bytesio = get_bytesio_from_bytes(new_image_bytes)\n",
    "        image_base64 = get_base64_from_bytes(new_image_bytes)\n",
    "        new_image_message = ChatMessage('user', 'image', text=image_base64, bytesio=image_bytesio)\n",
    "        message_history.append(new_image_message)\n",
    "    \n",
    "    \n",
    "    number_of_messages = len(message_history)\n",
    "    \n",
    "    if number_of_messages > MAX_MESSAGES:\n",
    "        del message_history[0 : (number_of_messages - MAX_MESSAGES) * 2] #make sure we remove both the user and assistant responses\n",
    "    \n",
    "    \n",
    "    body = get_multimodal_chat_request_body(message_history)\n",
    "    \n",
    "    response = bedrock.invoke_model(body=body, modelId=\"anthropic.claude-3-sonnet-20240229-v1:0\", contentType=\"application/json\", accept=\"application/json\")\n",
    "    \n",
    "    response_body = json.loads(response.get('body').read()) # read the response\n",
    "    \n",
    "    output = response_body['content'][0]['text']\n",
    "    \n",
    "    response_message = ChatMessage('assistant', 'text', output)\n",
    "    \n",
    "    message_history.append(response_message)\n",
    "    \n",
    "    print(response_message.text)\n",
    "    return response_message.text, message_history\n"
   ]
  },
  {
   "cell_type": "markdown",
   "id": "cc804218-eb78-436a-b6e0-03438e92bc06",
   "metadata": {},
   "source": [
    "### Read image data and get the bytes from file\n",
    "\n",
    "##### Data used for reading the images are - Balance Sheet, Cash flow statement, Income Statement which are synthetic data and mocked up following financial statements format"
   ]
  },
  {
   "cell_type": "code",
   "execution_count": 8,
   "id": "5824d893-1901-41d2-bed7-042c7b449fa6",
   "metadata": {
    "tags": []
   },
   "outputs": [],
   "source": [
    "file_bytes = get_bytes_from_file('./Balance Sheet.png')\n",
    "file_bytes1 = get_bytes_from_file('./cash flow statement.png')\n",
    "file_bytes2 = get_bytes_from_file('./income statement.png')"
   ]
  },
  {
   "cell_type": "markdown",
   "id": "ffa92798-7e78-4eaf-8e61-58ba68044a4c",
   "metadata": {},
   "source": [
    "### Calling the Claude 3 model with the image bytes\n",
    "<li> Create a string to store the response message (rm) </li>\n",
    "<li> Create a list to store the message history (mh) </li>\n",
    "<li> The model returns the response message and message history </li>\n",
    "<li> Note: we are invoking the model with just the image bytes and not passing on any prompts to the model </li>"
   ]
  },
  {
   "cell_type": "code",
   "execution_count": 9,
   "id": "a4e952d1-9f7c-4e4c-b93b-97ba0c1ca6c9",
   "metadata": {
    "tags": []
   },
   "outputs": [
    {
     "name": "stdout",
     "output_type": "stream",
     "text": [
      "The image shows the balance sheet of Enterprise Industries as of December 31, 2022. The balance sheet lists the company's assets, liabilities, and shareholders' equity.\n",
      "\n",
      "On the asset side, the current assets include cash and cash equivalents of $10,000, accounts receivable of $15,000, and inventory of $20,000, totaling $45,000 in current assets. The company also has property, plant, and equipment worth $80,000 and goodwill and intangible assets worth $25,000, bringing the total assets to $150,000.\n",
      "\n",
      "On the liabilities side, the current liabilities include accounts payable of $10,000, accrued expenses of $5,000, and short-term debt of $5,000, totaling $20,000 in current liabilities. The company also has long-term debt of $40,000 and deferred tax liabilities of $5,000, bringing the total liabilities to $65,000.\n",
      "\n",
      "The shareholders' equity section shows that the company has $20,000 in common stock, $10,000 in additional paid-in capital, and $55,000 in retained earnings, totaling $85,000 in shareholders' equity.\n",
      "\n",
      "The total liabilities and shareholders' equity equal the total assets of $150,000, satisfying the accounting equation: Assets = Liabilities + Shareholders' Equity.\n",
      "The image shows the Statement of Cash Flows for Enterprise Industries for the year ended December 31, 2022.\n",
      "\n",
      "Cash Flows from Operating Activities:\n",
      "- Net income for the year was $14,000.\n",
      "- Adjustments to reconcile net income included depreciation & amortization of $5,000 and deferred tax expense of $2,000.\n",
      "- Changes in operating assets and liabilities included a decrease in accounts receivable of $2,000, a decrease in inventory of $3,000, an increase in accounts payable of $1,000, and an increase in accrued expenses of $500.\n",
      "- Net cash provided by operating activities was $17,500.\n",
      "\n",
      "Cash Flows from Investing Activities:\n",
      "- Capital expenditures amounted to $15,000.\n",
      "- Net cash used in investing activities was $15,000.\n",
      "\n",
      "Cash Flows from Financing Activities:\n",
      "- Proceeds from issuance of debt were $5,000.\n",
      "- Repayment of debt was $2,000.\n",
      "- Dividends paid were $3,000.\n",
      "- Net cash provided by financing activities was $0.\n",
      "\n",
      "The net increase in cash and cash equivalents for the year was $2,500. The company started the year with cash and cash equivalents of $7,500. Therefore, the cash and cash equivalents at the end of the year were $10,000, which matches the balance sheet figure.\n",
      "The image shows the income statement of Enterprise Industries for the year ended December 31, 2022.\n",
      "\n",
      "Revenue:\n",
      "The company generated revenue of $100,000 during the year.\n",
      "\n",
      "Cost of Goods Sold:\n",
      "The cost of goods sold was $60,000.\n",
      "\n",
      "Gross Profit:\n",
      "The gross profit, calculated as revenue minus cost of goods sold, was $40,000.\n",
      "\n",
      "Operating Expenses:\n",
      "The operating expenses consisted of selling, general, and administrative expenses of $15,000 and depreciation and amortization of $5,000, totaling $20,000.\n",
      "\n",
      "Operating Income:\n",
      "The operating income, calculated as gross profit minus operating expenses, was $20,000.\n",
      "\n",
      "Other Income (Expense):\n",
      "The company had interest income of $500 and interest expense of $2,000.\n",
      "\n",
      "Income Before Taxes:\n",
      "The income before taxes, calculated as operating income plus other income (expense), was $18,500.\n",
      "\n",
      "Income Tax Expense:\n",
      "The income tax expense for the year was $4,500.\n",
      "\n",
      "Net Income:\n",
      "The net income for the year, calculated as income before taxes minus income tax expense, was $14,000.\n",
      "\n",
      "The net income figure of $14,000 matches the net income figure used in the cash flow statement, tying the three financial statements together.\n"
     ]
    }
   ],
   "source": [
    "rm = \"\" #response message\n",
    "mh = [] #message history\n",
    "rm, mh = chat_with_model(mh, None, file_bytes)\n",
    "rm, mh = chat_with_model(mh, None, file_bytes1)\n",
    "rm, mh = chat_with_model(mh, None, file_bytes2)\n",
    "# rm, mh = chat_with_model(mh, None, file_bytes3)"
   ]
  },
  {
   "cell_type": "code",
   "execution_count": 10,
   "id": "568cebc4-4a4a-4443-b6df-4f7defc6c2c4",
   "metadata": {
    "tags": []
   },
   "outputs": [],
   "source": [
    "prompt = \"\"\"Perform a financial analysis by calculating the ratios from the data in the images. \n",
    "Interpret the ratios. \n",
    "Give your answer in Tabular format indifferent section with 3 columns - Ratios for that section, Ratio calculation, Interpretation for the ratio values. \n",
    "For every ratio give calculations/basis/justifications. \n",
    "Do not make up answers/numbers/data. \n",
    "Answer only if you know it.\n",
    "Activity Ratios:\n",
    "\n",
    "| Activity Ratios | Ratio calculation |\n",
    "|-----------------|-------------------|\n",
    "| Inventory turnover | Cost of goods sold / Average inventory |\n",
    "| Days of inventory on hand (DOH) | Number of days in period / Inventory turnover |\n",
    "| Receivables turnover | Revenue or Net credit sales / Average receivables |\n",
    "| Days of sales outstanding (DSO) | Number of days in period / Receivables turnover |\n",
    "| Payable Turnover | Purchases / Average payables |\n",
    "| Number of days of payables | Number of days in period / Payable turnover |\n",
    "| Working capital turnover | Revenue / Average working capital |\n",
    "| Fixed assets turnover | Revenue / Average fixed assets |\n",
    "| Total assets turnover | Revenue / Average total assets |\n",
    "\"\"\""
   ]
  },
  {
   "cell_type": "code",
   "execution_count": 11,
   "id": "cdc2e221-f9c5-4cda-affb-414a5f0402be",
   "metadata": {
    "tags": []
   },
   "outputs": [
    {
     "name": "stdout",
     "output_type": "stream",
     "text": [
      "Activity Ratios:\n",
      "\n",
      "| Activity Ratios | Ratio Calculation | Interpretation |\n",
      "|-----------------|--------------------|--------------------|\n",
      "| Inventory turnover | Cost of goods sold / Average inventory = $60,000 / ($20,000 + $20,000)/2 = $60,000 / $20,000 = 3 times | The inventory turned over 3 times during the year, indicating efficient inventory management. |\n",
      "| Days of inventory on hand (DOH) | 365 days / Inventory turnover = 365 / 3 = 121.67 days | On average, inventory was held for approximately 122 days before being sold. |\n",
      "| Receivables turnover | Revenue / Average receivables = $100,000 / ($15,000 + $15,000)/2 = $100,000 / $15,000 = 6.67 times | Accounts receivable turned over 6.67 times during the year, indicating efficient collection of receivables. |\n",
      "| Days of sales outstanding (DSO) | 365 days / Receivables turnover = 365 / 6.67 = 54.72 days | On average, it took approximately 55 days to collect accounts receivable. |\n",
      "| Payable Turnover | Cost of goods sold / Average payables = $60,000 / ($10,000 + $10,000)/2 = $60,000 / $10,000 = 6 times | The company paid its suppliers 6 times during the year, indicating efficient payment of payables. |\n",
      "| Number of days of payables | 365 days / Payable turnover = 365 / 6 = 60.83 days | On average, the company took approximately 61 days to pay its suppliers. |\n",
      "| Working capital turnover | Revenue / Average working capital = $100,000 / ($45,000 - $20,000) = $100,000 / $25,000 = 4 times | The company generated $4 in revenue for every $1 of working capital, indicating efficient use of working capital. |\n",
      "| Fixed assets turnover | Revenue / Average fixed assets = $100,000 / ($80,000 + $25,000) = $100,000 / $105,000 = 0.95 times | The company generated $0.95 in revenue for every $1 of fixed assets, indicating efficient use of fixed assets. |\n",
      "| Total assets turnover | Revenue / Average total assets = $100,000 / $150,000 = 0.67 times | The company generated $0.67 in revenue for every $1 of total assets, indicating efficient use of total assets. |\n",
      "\n",
      "Note: The calculations are based on the information provided in the financial statements. Some assumptions were made, such as using the ending balances for average calculations due to the lack of beginning balances.\n"
     ]
    }
   ],
   "source": [
    "rm, mh = chat_with_model(mh, prompt)"
   ]
  },
  {
   "cell_type": "code",
   "execution_count": 12,
   "id": "e95700c9-5c3e-44d2-86ef-579be0a499dc",
   "metadata": {
    "tags": []
   },
   "outputs": [],
   "source": [
    "prompt1 = \"\"\"Perform a financial analysis by calculating the ratios from the data in the images. \n",
    "Interpret the ratios. \n",
    "Give your answer in Tabular format indifferent section with 3 columns - Ratios for that section, Ratio calculation, Interpretation for the ratio values. \n",
    "For every ratio give calculations/basis/justifications. \n",
    "Do not make up answers/numbers/data. \n",
    "Answer only if you know it.\n",
    "Liquidity Ratios:\n",
    "\n",
    "| Liquidity ratios | Ratio calculation |\n",
    "|-----------------|-------------------|\n",
    "| Current | Current assets / Current liabilities |\n",
    "| Quick | (Cash + Short-term marketable securities + Receivables) / Current liabilities |\n",
    "| Cash | (Cash + Short-term marketable securities) / Current liabilities |\n",
    "| Defensive interval | (Cash + Short-term marketable securities + Receivables) / Daily expenditures |\n",
    "| Cash conversion cycle | DOH + DSO - Number of days of payables |\n",
    "\"\"\""
   ]
  },
  {
   "cell_type": "code",
   "execution_count": 13,
   "id": "ff519a37-0789-4bd8-b18a-91e8f5696089",
   "metadata": {
    "tags": []
   },
   "outputs": [
    {
     "name": "stdout",
     "output_type": "stream",
     "text": [
      "Liquidity Ratios:\n",
      "\n",
      "| Liquidity Ratios | Ratio Calculation | Interpretation |\n",
      "|-------------------|--------------------|--------------------|\n",
      "| Current | Current assets / Current liabilities = $45,000 / $20,000 = 2.25 times | The company has $2.25 in current assets for every $1 of current liabilities, indicating a strong ability to meet short-term obligations. |\n",
      "| Quick | (Cash + Receivables) / Current liabilities = ($10,000 + $15,000) / $20,000 = 1.25 times | The company has $1.25 in quick assets (cash and receivables) for every $1 of current liabilities, indicating a good level of liquidity. |\n",
      "| Cash | (Cash) / Current liabilities = $10,000 / $20,000 = 0.5 times | The company has $0.50 in cash for every $1 of current liabilities, which may be a bit low for meeting immediate obligations. |\n",
      "| Defensive Interval | (Cash + Receivables) / Daily expenditures = ($10,000 + $15,000) / ($60,000 / 365) = $25,000 / $164.38 = 152 days | The company has enough cash and receivables to cover approximately 152 days of daily expenditures, indicating a good defensive position. |\n",
      "| Cash Conversion Cycle | DOH + DSO - Number of days of payables = 121.67 + 54.72 - 60.83 = 115.56 days | It takes approximately 116 days for the company to convert its inventory and receivables into cash, after accounting for the payment of payables. |\n",
      "\n",
      "Note: The calculations are based on the information provided in the financial statements. Daily expenditures are estimated as the cost of goods sold divided by 365 days.\n"
     ]
    }
   ],
   "source": [
    "rm, mh = chat_with_model(mh, prompt1)"
   ]
  },
  {
   "cell_type": "code",
   "execution_count": 14,
   "id": "26f735e8-f839-4268-b651-5baf140b07dd",
   "metadata": {
    "tags": []
   },
   "outputs": [],
   "source": [
    "prompt2 = \"\"\"Perform a financial analysis by calculating the ratios from the data in the images. \n",
    "Interpret the ratios. \n",
    "Give your answer in Tabular format indifferent section with 3 columns - Ratios for that section, Ratio calculation, Interpretation for the ratio values. \n",
    "For every ratio give calculations/basis/justifications. \n",
    "Do not make up answers/numbers/data. \n",
    "Answer only if you know it.\n",
    "Solvency Ratios:\n",
    "\n",
    "| Solvency ratios | Ratio calculation |\n",
    "|-----------------|-------------------|\n",
    "| Debt-to-assets | Total debt / Total assets |\n",
    "| Debt-to-capital | Total debt / (Total debt + Total shareholders' equity) |\n",
    "| Debt-to-equity | Total debt / Total shareholders' equity |\n",
    "| Financial leverage | Average total assets / Average shareholders' equity |\n",
    "\"\"\""
   ]
  },
  {
   "cell_type": "code",
   "execution_count": 15,
   "id": "8e079def-601e-4dc0-be25-c42b5a9fe480",
   "metadata": {
    "tags": []
   },
   "outputs": [
    {
     "name": "stdout",
     "output_type": "stream",
     "text": [
      "Solvency Ratios:\n",
      "\n",
      "| Solvency Ratios | Ratio Calculation | Interpretation |\n",
      "|-----------------|--------------------|--------------------|\n",
      "| Debt-to-assets | Total debt / Total assets = ($20,000 + $40,000) / $150,000 = 0.4 or 40% | The company has debt equal to 40% of its total assets, indicating a moderate level of debt relative to its asset base. |\n",
      "| Debt-to-capital | Total debt / (Total debt + Total shareholders' equity) = $60,000 / ($60,000 + $85,000) = 0.414 or 41.4% | The company has debt equal to 41.4% of its total capital (debt plus equity), indicating a moderate level of debt relative to its capital structure. |\n",
      "| Debt-to-equity | Total debt / Total shareholders' equity = $60,000 / $85,000 = 0.706 or 70.6% | The company has debt equal to 70.6% of its shareholders' equity, indicating a moderate level of debt relative to its equity. |\n",
      "| Financial leverage | Average total assets / Average shareholders' equity = $150,000 / $85,000 = 1.765 | The company has $1.765 in assets for every $1 of shareholders' equity, indicating a moderate level of financial leverage. |\n",
      "\n",
      "Note: The calculations are based on the information provided in the financial statements. Since beginning balances are not provided, the ending balances are used for the calculations.\n"
     ]
    }
   ],
   "source": [
    "rm, mh = chat_with_model(mh, prompt2)"
   ]
  },
  {
   "cell_type": "code",
   "execution_count": 16,
   "id": "91c60640-1438-4f0e-9c61-868c1c5b55dd",
   "metadata": {
    "tags": []
   },
   "outputs": [],
   "source": [
    "prompt3 = \"\"\"Perform a financial analysis by calculating the ratios from the data in the images. \n",
    "Interpret the ratios. \n",
    "Give your answer in Tabular format indifferent section with 3 columns - Ratios for that section, Ratio calculation, Interpretation for the ratio values. \n",
    "For every ratio give calculations/basis/justifications. \n",
    "Do not make up answers/numbers/data. \n",
    "Answer only if you know it.\n",
    "Coverage Ratios:\n",
    "\n",
    "| Coverage Ratios | Ratio calculation |\n",
    "|-----------------|-------------------|\n",
    "| Interest coverage | EBIT / Interest expense |\n",
    "| Fixed charge coverage | EBIT + Lease payments / (Interest expense + Lease payments) |\n",
    "\"\"\""
   ]
  },
  {
   "cell_type": "code",
   "execution_count": 17,
   "id": "8f7c2723-1b3e-42cc-a810-8e7550153b16",
   "metadata": {
    "tags": []
   },
   "outputs": [
    {
     "name": "stdout",
     "output_type": "stream",
     "text": [
      "Coverage Ratios:\n",
      "\n",
      "| Coverage Ratios | Ratio Calculation | Interpretation |\n",
      "|-----------------|--------------------|--------------------|\n",
      "| Interest coverage | EBIT / Interest expense = ($20,000 + $500 - $2,000) / $2,000 = $18,500 / $2,000 = 9.25 times | The company's earnings before interest and taxes (EBIT) are 9.25 times higher than its interest expense, indicating a strong ability to cover interest payments from its operating income. |\n",
      "| Fixed charge coverage | (EBIT + Lease payments) / (Interest expense + Lease payments) = Data not available | The information required to calculate the fixed charge coverage ratio, such as lease payments, is not provided in the financial statements. |\n",
      "\n",
      "Note: The EBIT (Earnings Before Interest and Taxes) is calculated as Operating Income ($20,000) plus Interest Income ($500) minus Interest Expense ($2,000). Since there is no information provided about lease payments, the fixed charge coverage ratio cannot be calculated.\n"
     ]
    }
   ],
   "source": [
    "rm, mh = chat_with_model(mh, prompt3)"
   ]
  },
  {
   "cell_type": "code",
   "execution_count": 18,
   "id": "244be40b-be13-4dff-bf3f-fa1c6ec24ffe",
   "metadata": {
    "tags": []
   },
   "outputs": [],
   "source": [
    "prompt4 = \"\"\"Perform a financial analysis by calculating the ratios from the data in the images. \n",
    "Interpret the ratios. \n",
    "Give your answer in Tabular format indifferent section with 3 columns - Ratios for that section, Ratio calculation, Interpretation for the ratio values. \n",
    "For every ratio give calculations/basis/justifications. \n",
    "Do not make up answers/numbers/data. \n",
    "Answer only if you know it.\n",
    "Profitability Ratios:\n",
    "\n",
    "| Return on sales ratios | Ratio calculation |\n",
    "|------------------------|-------------------|\n",
    "| Gross profit margin | Gross profit / Revenue |\n",
    "| Operating margin | Operating profit / Revenue |\n",
    "| Pretax margin | EBT (Earnings before taxes) / Revenue |\n",
    "| Net profit margin | Net income / Revenue |\n",
    "\"\"\""
   ]
  },
  {
   "cell_type": "code",
   "execution_count": 19,
   "id": "f03a674c-d51e-49c3-9097-1041005fd93f",
   "metadata": {
    "tags": []
   },
   "outputs": [
    {
     "name": "stdout",
     "output_type": "stream",
     "text": [
      "Profitability Ratios:\n",
      "\n",
      "| Return on Sales Ratios | Ratio Calculation | Interpretation |\n",
      "|------------------------|--------------------|--------------------|\n",
      "| Gross Profit Margin | Gross Profit / Revenue = $40,000 / $100,000 = 0.4 or 40% | The company earns a gross profit of 40 cents for every dollar of revenue, indicating a healthy gross profit margin. |\n",
      "| Operating Margin | Operating Profit / Revenue = $20,000 / $100,000 = 0.2 or 20% | The company earns an operating profit of 20 cents for every dollar of revenue, indicating a good level of profitability from operations. |\n",
      "| Pretax Margin | EBT (Earnings Before Taxes) / Revenue = $18,500 / $100,000 = 0.185 or 18.5% | The company earns a pretax profit of 18.5 cents for every dollar of revenue, indicating a good level of profitability before taxes. |\n",
      "| Net Profit Margin | Net Income / Revenue = $14,000 / $100,000 = 0.14 or 14% | The company earns a net profit of 14 cents for every dollar of revenue, indicating a reasonable level of profitability after taxes. |\n",
      "\n",
      "Note: The calculations are based on the information provided in the income statement.\n"
     ]
    }
   ],
   "source": [
    "rm, mh = chat_with_model(mh, prompt4)"
   ]
  },
  {
   "cell_type": "code",
   "execution_count": 20,
   "id": "5a827469-e1c7-4e7d-ae36-573d9fd7404c",
   "metadata": {
    "tags": []
   },
   "outputs": [],
   "source": [
    "prompt5 = \"\"\"Perform a financial analysis by calculating the ratios from the data in the images. \n",
    "Interpret the ratios. \n",
    "Give your answer in Tabular format indifferent section with 3 columns - Ratios for that section, Ratio calculation, Interpretation for the ratio values. \n",
    "For every ratio give calculations/basis/justifications. \n",
    "Do not make up answers/numbers/data. \n",
    "Answer only if you know it.\n",
    "| Return on investment ratios | Ratio calculation |\n",
    "|----------------------------|-------------------|\n",
    "| Operating ROA | Operating profit / Average total assets |\n",
    "| ROA | Net income / Average total assets |\n",
    "| Return on total capital | EBIT / (Debt + Equity) |\n",
    "| ROE | Net income / Average total equity |\n",
    "| Return on common equity | Net income - Preferred dividends / Average common equity |\n",
    "\"\"\""
   ]
  },
  {
   "cell_type": "code",
   "execution_count": 21,
   "id": "675824be-0ba9-4f0e-aaf8-0f6c6998dc0c",
   "metadata": {
    "tags": []
   },
   "outputs": [
    {
     "name": "stdout",
     "output_type": "stream",
     "text": [
      "Return on Investment Ratios:\n",
      "\n",
      "| Return on Investment Ratios | Ratio Calculation | Interpretation |\n",
      "|-----------------------------|--------------------|--------------------|\n",
      "| Operating ROA | Operating Profit / Average Total Assets = $20,000 / $150,000 = 0.133 or 13.3% | The company generates an operating profit of 13.3 cents for every dollar of total assets, indicating a reasonable level of profitability from its assets. |\n",
      "| ROA | Net Income / Average Total Assets = $14,000 / $150,000 = 0.093 or 9.3% | The company generates a net income of 9.3 cents for every dollar of total assets, indicating a moderate level of profitability from its assets. |\n",
      "| Return on Total Capital | EBIT / (Debt + Equity) = $18,500 / ($60,000 + $85,000) = $18,500 / $145,000 = 0.128 or 12.8% | The company generates an EBIT of 12.8 cents for every dollar of total capital (debt plus equity), indicating a reasonable level of profitability from its capital. |\n",
      "| ROE | Net Income / Average Total Equity = $14,000 / $85,000 = 0.165 or 16.5% | The company generates a net income of 16.5 cents for every dollar of shareholders' equity, indicating a good level of profitability for the shareholders. |\n",
      "| Return on Common Equity | (Net Income - Preferred Dividends) / Average Common Equity = Data not available | The information required to calculate the return on common equity, such as preferred dividends and average common equity, is not provided in the financial statements. |\n",
      "\n",
      "Note: The calculations are based on the information provided in the financial statements. Since beginning balances are not provided, the ending balances are used for the average calculations.\n"
     ]
    }
   ],
   "source": [
    "rm, mh = chat_with_model(mh, prompt5)"
   ]
  },
  {
   "cell_type": "code",
   "execution_count": 22,
   "id": "24af801e-09a0-4b05-bc29-dce5893d706a",
   "metadata": {
    "tags": []
   },
   "outputs": [],
   "source": [
    "prompt6 = \"\"\"Perform a financial analysis by calculating the ratios from the data in the images. \n",
    "Interpret the ratios. \n",
    "Give your answer in Tabular format indifferent section with 3 columns - Ratios for that section, Ratio calculation, Interpretation for the ratio values. \n",
    "For every ratio give calculations/basis/justifications. \n",
    "Do not make up answers/numbers/data. \n",
    "Answer only if you know it.\n",
    "Valuation Ratios:\n",
    "\n",
    "| Valuation ratios | Ratio calculation |\n",
    "|------------------|-------------------|\n",
    "| P/E | Stock price / Earnings per share |\n",
    "| PCP | Stock price / Cash flow per share |\n",
    "| PS | Stock price / Sales per share |\n",
    "| PBV | Book per share / Average book value per share |\n",
    "\"\"\""
   ]
  },
  {
   "cell_type": "code",
   "execution_count": 23,
   "id": "3d37687f-5e9f-45f8-9d9c-7030a640e41f",
   "metadata": {
    "tags": []
   },
   "outputs": [
    {
     "name": "stdout",
     "output_type": "stream",
     "text": [
      "Unfortunately, the financial statements provided do not contain information about the company's stock price, earnings per share, cash flow per share, sales per share, or book value per share. Without this data, it is not possible to calculate or interpret valuation ratios such as P/E, PCP, PS, or PBV.\n",
      "\n",
      "Valuation ratios require market data (stock price) and per-share data (earnings per share, cash flow per share, sales per share, book value per share) that are typically not found in basic financial statements like the ones provided. These ratios are used by investors and analysts to assess the relative value of a company's stock compared to its financial performance and book value.\n",
      "\n",
      "Unless additional information is provided, I cannot calculate or interpret any valuation ratios for this company based on the data available in the balance sheet, income statement, and cash flow statement.\n"
     ]
    }
   ],
   "source": [
    "rm, mh = chat_with_model(mh, prompt6)"
   ]
  },
  {
   "cell_type": "code",
   "execution_count": 24,
   "id": "55a07639-1587-4fcf-951f-e616c6d5b7be",
   "metadata": {
    "tags": []
   },
   "outputs": [],
   "source": [
    "prompt7 = \"\"\"Perform a financial analysis by calculating the ratios from the data in the images. \n",
    "Interpret the ratios. \n",
    "Give your answer in Tabular format indifferent section with 3 columns - Ratios for that section, Ratio calculation, Interpretation for the ratio values. \n",
    "For every ratio give calculations/basis/justifications. \n",
    "Do not make up answers/numbers/data. \n",
    "Answer only if you know it.\n",
    "| Price per share | Ratio calculation |\n",
    "|-----------------|-------------------|\n",
    "| Basic EPS | (Net income - Preferred dividends) / Weighted average number of ordinary shares outstanding |\n",
    "| Diluted EPS | (Net income - Preferred dividends) / Weighted number of ordinary shares outstanding + Potential dilutive effects of options, warrants, convertible securities that have been issued at conversion |\n",
    "| Cash flow per share | Cash flow from operations / Weighted average number of ordinary shares outstanding |\n",
    "| EBITDA per share | EBITDA / Average number of common stock |\n",
    "| Dividends per share | Dividends paid / Number of shares outstanding |\n",
    "\n",
    "\"\"\""
   ]
  },
  {
   "cell_type": "code",
   "execution_count": 25,
   "id": "e0b7913d-f677-4b7e-a27d-d891e0af1bcc",
   "metadata": {
    "tags": []
   },
   "outputs": [
    {
     "name": "stdout",
     "output_type": "stream",
     "text": [
      "Unfortunately, the financial information provided in the income statement, balance sheet, and cash flow statement does not include details such as preferred dividends, weighted average number of ordinary shares outstanding, potential dilutive effects of options/warrants/convertibles, EBITDA, or dividends paid. Without this additional data, it is not possible to calculate or interpret ratios related to price per share, earnings per share, cash flow per share, EBITDA per share, or dividends per share.\n",
      "\n",
      "These ratios require specific information about a company's share capital structure, outstanding shares, dilutive securities, and dividend payments, which are typically not found in basic financial statements. They are used by investors and analysts to assess the value of a company's shares and the potential returns to shareholders.\n",
      "\n",
      "Unless additional information is provided regarding the company's share capital and dividend details, I cannot calculate or interpret any ratios related to price per share or shareholder returns based on the data available in the financial statements provided.\n"
     ]
    }
   ],
   "source": [
    "rm, mh = chat_with_model(mh, prompt7)"
   ]
  },
  {
   "cell_type": "code",
   "execution_count": 26,
   "id": "f84ab84d-ab91-4b26-a77b-d415fe819fba",
   "metadata": {
    "tags": []
   },
   "outputs": [],
   "source": [
    "prompt8 = \"\"\"Perform a financial analysis by calculating the ratios from the data in the images. \n",
    "Interpret the ratios. \n",
    "Give your answer in Tabular format indifferent section with 3 columns - Ratios for that section, Ratio calculation, Interpretation for the ratio values. \n",
    "For every ratio give calculations/basis/justifications. \n",
    "Do not make up answers/numbers/data. \n",
    "Answer only if you know it.\n",
    "| Dividend-related ratios | Ratio calculation |\n",
    "|-------------------------|-------------------|\n",
    "| Dividend payout ratio | Common share dividends / Net income attributable to common shares |\n",
    "| Retention rate (k) | Net income attributable to common shares - Common share dividends / Net income attributable to common shares |\n",
    "| Sustainable growth rate | b x ROE |\n",
    "\"\"\""
   ]
  },
  {
   "cell_type": "code",
   "execution_count": 27,
   "id": "85b6be38-8f0d-4d08-84cb-ccd957afa4a5",
   "metadata": {
    "tags": []
   },
   "outputs": [
    {
     "name": "stdout",
     "output_type": "stream",
     "text": [
      "Unfortunately, the financial statements provided do not include information about common share dividends, net income attributable to common shares, or the retention rate (b). Without this data, it is not possible to calculate or interpret dividend-related ratios such as the dividend payout ratio, retention rate (k), or sustainable growth rate.\n",
      "\n",
      "These ratios require specific details about a company's dividend payments, net income allocated to common shareholders, and the retention rate of earnings, which are typically not found in basic financial statements like the ones provided.\n",
      "\n",
      "Unless additional information is provided regarding the company's dividend payments, net income attributable to common shares, and retention rate, I cannot calculate or interpret any dividend-related ratios based on the data available in the financial statements.\n"
     ]
    }
   ],
   "source": [
    "rm, mh = chat_with_model(mh, prompt8)"
   ]
  },
  {
   "cell_type": "code",
   "execution_count": 28,
   "id": "dd08882c-575e-4b86-8546-d334f8096f24",
   "metadata": {
    "tags": []
   },
   "outputs": [],
   "source": [
    "prompt9 = \"\"\"Perform a financial analysis by calculating the ratios from the data in the images. \n",
    "Interpret the ratios. \n",
    "Give your answer in Tabular format indifferent section with 3 columns - Ratios for that section, Ratio calculation, Interpretation for the ratio values. \n",
    "For every ratio give calculations/basis/justifications. \n",
    "Do not make up answers/numbers/data. \n",
    "Answer only if you know it.\n",
    "Solvency Ratios:\n",
    "\n",
    "| Ratio per share | Ratio calculation |\n",
    "|-----------------|-------------------|\n",
    "| EBIT interest coverage | EBIT / Gross interest prior to deductions for capitalized interest or interest income |\n",
    "| EBITDA interest coverage | EBITDA / Gross interest prior to deductions for capitalized interest or interest income |\n",
    "\"\"\""
   ]
  },
  {
   "cell_type": "code",
   "execution_count": 29,
   "id": "f41cfb48-141a-483d-aa9b-c866530dbb5a",
   "metadata": {
    "tags": []
   },
   "outputs": [
    {
     "name": "stdout",
     "output_type": "stream",
     "text": [
      "Unfortunately, the financial statements provided do not include information about gross interest prior to deductions for capitalized interest or interest income, or EBITDA (Earnings Before Interest, Taxes, Depreciation, and Amortization). Without this data, it is not possible to calculate or interpret the EBIT interest coverage ratio or the EBITDA interest coverage ratio.\n",
      "\n",
      "These ratios are used to assess a company's ability to cover its interest expenses from its operating income and cash flows. They require specific details about gross interest expenses and EBITDA, which are typically not found in basic financial statements like the ones provided.\n",
      "\n",
      "Unless additional information is provided regarding the company's gross interest expenses and EBITDA, I cannot calculate or interpret the EBIT interest coverage ratio or the EBITDA interest coverage ratio based on the data available in the financial statements.\n"
     ]
    }
   ],
   "source": [
    "rm, mh = chat_with_model(mh, prompt9)"
   ]
  },
  {
   "cell_type": "code",
   "execution_count": 30,
   "id": "9cdc3224-7bcf-40da-b9f4-45b523f7dc6e",
   "metadata": {
    "tags": []
   },
   "outputs": [],
   "source": [
    "prompt10 = \"\"\"Perform a financial analysis by calculating the ratios from the data in the images. \n",
    "Interpret the ratios. \n",
    "Give your answer in Tabular format indifferent section with 3 columns - Ratios for that section, Ratio calculation, Interpretation for the ratio values. \n",
    "For every ratio give calculations/basis/justifications. \n",
    "Do not make up answers/numbers/data. \n",
    "Answer only if you know it.\n",
    "Price per Share:\n",
    "\n",
    "| Price per share | Ratio calculation |\n",
    "|-----------------|-------------------|\n",
    "| FFO (Funds from operations) divided by debt | FFO + Interest paid - Operating lease adjustments - Gains/losses from property sales + Straight-line interest or implied income |\n",
    "| Return on capital | EBIT / Average capital |\n",
    "| FFO (Funds from operations) to debt | FFO / Total debt |\n",
    "| Free operating cash flow to debt | CFO (Adjusted) - Capital expenditures - Dividends paid / Total debt |\n",
    "| Discretionary cash flow to debt | CFO - Capital expenditures - Dividend paid / Total debt |\n",
    "| Net cash flow-to-capital expenditures | FFO - Dividends / Capital expenditures |\n",
    "\"\"\""
   ]
  },
  {
   "cell_type": "code",
   "execution_count": 31,
   "id": "874cad1a-8033-49fc-a3be-c9f68e1e2ad3",
   "metadata": {
    "tags": []
   },
   "outputs": [
    {
     "name": "stdout",
     "output_type": "stream",
     "text": [
      "Unfortunately, the financial statements provided do not include information about funds from operations (FFO), interest paid, operating lease adjustments, gains/losses from property sales, straight-line interest or implied income, adjusted cash flow from operations (CFO), capital expenditures, or dividends paid. Without this additional data, it is not possible to calculate or interpret the ratios related to price per share, return on capital, FFO to debt, free operating cash flow to debt, discretionary cash flow to debt, or net cash flow to capital expenditures.\n",
      "\n",
      "These ratios are commonly used in the analysis of real estate investment trusts (REITs) or companies with significant real estate holdings. They require specific details about funds from operations, cash flows, capital expenditures, debt, and dividends, which are typically not found in basic financial statements like the ones provided.\n",
      "\n",
      "Unless additional information is provided regarding the company's funds from operations, cash flows, capital expenditures, debt, and dividend payments, I cannot calculate or interpret any of the ratios listed related to price per share, return on capital, or cash flow coverage based on the data available in the financial statements.\n"
     ]
    }
   ],
   "source": [
    "rm, mh = chat_with_model(mh, prompt10)"
   ]
  },
  {
   "cell_type": "code",
   "execution_count": 32,
   "id": "34901d6e-8b10-458e-a7a2-aff8e5df242f",
   "metadata": {
    "tags": []
   },
   "outputs": [],
   "source": [
    "prompt11 = \"\"\"Perform a financial analysis by calculating the ratios from the data in the images. \n",
    "Interpret the ratios. \n",
    "Give your answer in Tabular format indifferent section with 3 columns - Ratios for that section, Ratio calculation, Interpretation for the ratio values. \n",
    "For every ratio give calculations/basis/justifications. \n",
    "Do not make up answers/numbers/data. \n",
    "Answer only if you know it.\n",
    "Leverage Ratios:\n",
    "\n",
    "| Leverage Ratios |\n",
    "|-----------------|\n",
    "| Debt-to-assets ratio |\n",
    "| Debt-to-capital ratio |\n",
    "| Debt-to-equity ratio |\n",
    "| Financial leverage ratio |\n",
    "\n",
    "* Debt is defined as the sum of interest-bearing short-term and long-term debt.\n",
    "\"\"\"\n",
    "\n",
    "\n"
   ]
  },
  {
   "cell_type": "code",
   "execution_count": 33,
   "id": "ced49b49-e22d-489e-b6fa-87041fa6180f",
   "metadata": {
    "tags": []
   },
   "outputs": [
    {
     "name": "stdout",
     "output_type": "stream",
     "text": [
      "Leverage Ratios:\n",
      "\n",
      "| Leverage Ratios | Ratio Calculation | Interpretation |\n",
      "|-----------------|--------------------|--------------------|\n",
      "| Debt-to-assets ratio | Total Debt / Total Assets = ($20,000 + $40,000) / $150,000 = 0.4 or 40% | The company has debt equal to 40% of its total assets, indicating a moderate level of leverage. |\n",
      "| Debt-to-capital ratio | Total Debt / (Total Debt + Total Shareholders' Equity) = $60,000 / ($60,000 + $85,000) = 0.414 or 41.4% | The company has debt equal to 41.4% of its total capital (debt plus equity), indicating a moderate level of leverage relative to its capital structure. |\n",
      "| Debt-to-equity ratio | Total Debt / Total Shareholders' Equity = $60,000 / $85,000 = 0.706 or 70.6% | The company has debt equal to 70.6% of its shareholders' equity, indicating a moderate level of leverage relative to its equity. |\n",
      "| Financial leverage ratio | Average Total Assets / Average Shareholders' Equity = $150,000 / $85,000 = 1.765 | The company has $1.765 in assets for every $1 of shareholders' equity, indicating a moderate level of financial leverage. |\n",
      "\n",
      "Note: The calculations are based on the information provided in the financial statements. Since beginning balances are not provided, the ending balances are used for the calculations. Debt is defined as the sum of interest-bearing short-term and long-term debt, which is $20,000 + $40,000 = $60,000 in this case.\n"
     ]
    }
   ],
   "source": [
    "rm, mh = chat_with_model(mh, prompt11)"
   ]
  },
  {
   "cell_type": "code",
   "execution_count": 34,
   "id": "9a3db35b-b81a-47d5-84d4-ae520b17be30",
   "metadata": {
    "tags": []
   },
   "outputs": [],
   "source": [
    "prompt12 = \"\"\"Perform a financial analysis by calculating the ratios from the data in the images. \n",
    "Interpret the ratios. \n",
    "Give your answer in Tabular format indifferent section with 3 columns - Ratios for that section, Ratio calculation, Interpretation for the ratio values. \n",
    "For every ratio give calculations/basis/justifications. \n",
    "Do not make up answers/numbers/data. \n",
    "Answer only if you know it.\n",
    "Segment Ratios:\n",
    "\n",
    "| Segment ratio | Numerator | Denominator | Indication |\n",
    "|---------------|------------|--------------|-------------|\n",
    "| Segment margin | Segment profit (loss) | Segment revenue | Measures a segment's profitability relative to its revenue. |\n",
    "| Segment turnover | Segment revenue | Segment assets | Measures a segment's efficiency in using its assets. |\n",
    "| Segment ROA | Segment profit (loss) | Segment assets | Measures a segment's profitability relative to its assets. |\n",
    "| Segments' sales ratio | Segment liabilities | Segment assets | Measures a segment's leverage. |\n",
    "\n",
    "\"\"\"\n",
    "\n",
    "\n"
   ]
  },
  {
   "cell_type": "code",
   "execution_count": 35,
   "id": "fd6326d3-4223-4937-965d-45f159e6d74c",
   "metadata": {
    "tags": []
   },
   "outputs": [
    {
     "name": "stdout",
     "output_type": "stream",
     "text": [
      "Unfortunately, the financial statements provided do not include any segmented information or breakdowns by business segments. Without segment-level data on revenue, profit/loss, assets, and liabilities for different operating segments of the company, it is not possible to calculate or interpret segment ratios such as segment margin, segment turnover, segment ROA, or segments' sales ratio.\n",
      "\n",
      "These ratios are used to analyze the performance, efficiency, profitability, and leverage of a company's individual business segments or operating divisions. They require detailed financial information to be reported separately for each segment, which is typically not found in basic consolidated financial statements like the ones provided.\n",
      "\n",
      "Unless additional segmented financial data is provided for the company's different business segments or operating divisions, I cannot calculate or interpret any segment ratios based on the information available in the consolidated financial statements.\n"
     ]
    }
   ],
   "source": [
    "rm, mh = chat_with_model(mh, prompt12)"
   ]
  },
  {
   "cell_type": "code",
   "execution_count": 36,
   "id": "6ab68839-fda6-47ad-8828-7175b7780186",
   "metadata": {
    "tags": []
   },
   "outputs": [],
   "source": [
    "prompt13 = \"\"\"Perform a financial analysis by calculating the ratios from the data in the images. \n",
    "Interpret the ratios. \n",
    "Give your answer in Tabular format indifferent section with 3 columns - Ratios for that section, Ratio calculation, Interpretation for the ratio values. \n",
    "For every ratio give calculations/basis/justifications. \n",
    "Do not make up answers/numbers/data. \n",
    "Answer only if you know it.\n",
    "Performance Ratios:\n",
    "\n",
    "| Leverage Ratios | Calculation | Indication |\n",
    "|-----------------|--------------|------------|\n",
    "| Cash flow to income | CFO / Net income | Operating cash generated per dollar of net income |\n",
    "| Cash return on assets | CFO / Average total assets | Operating cash generated per dollar of assets investment |\n",
    "| Cash return on equity | CFO / Average shareholders' equity | Operating cash generated per dollar of owners investment |\n",
    "| Cash to income | CFO / Operating income | Cash generated from operations |\n",
    "| Cash flow per share | (CFO - Dividends) / Number of common shares outstanding | Operating cash flow on a per share basis |\n",
    "| Debt payment | CFO / Long-term debt | Ability to pay debts with operating cash flows |\n",
    "| Dividend payment | CFO / Dividends paid | Ability to pay dividends with operating cash flows |\n",
    "| Investing and Financing | CFO / (Capital expenditures + Financing activities) | Ability to acquire assets, pay debts, and pay dividends to owners |\n",
    "| Debt coverage | CFO / Total debt | Financial risk and financial leverage |\n",
    "| Interest Coverage | (CFO + Interest paid + Taxes paid) / Interest expense | Ability to meet interest obligations |\n",
    "| Deinvestment | CFO / (Cash paid for long-term assets) | Ability to acquire assets with operating cash flows |\n",
    "\"\"\"\n",
    "\n",
    "\n"
   ]
  },
  {
   "cell_type": "code",
   "execution_count": 37,
   "id": "7be898b6-c63f-4c5c-bf0a-a95ce3c426bf",
   "metadata": {
    "tags": []
   },
   "outputs": [
    {
     "name": "stdout",
     "output_type": "stream",
     "text": [
      "Unfortunately, the financial statements provided do not include some key information required to calculate many of the performance ratios listed, such as:\n",
      "\n",
      "- Cash Flow from Operations (CFO)\n",
      "- Interest paid\n",
      "- Taxes paid \n",
      "- Dividends paid\n",
      "- Number of common shares outstanding\n",
      "- Capital expenditures\n",
      "- Financing activities\n",
      "- Cash paid for long-term assets\n",
      "\n",
      "Without this additional data, it is not possible to accurately calculate or interpret ratios such as cash flow to income, cash return on assets/equity, cash to income, cash flow per share, debt payment, dividend payment, investing and financing, debt coverage, interest coverage, or deinvestment.\n",
      "\n",
      "These performance ratios are used to assess a company's ability to generate cash flows from operations, meet its debt and interest obligations, pay dividends, and fund investments and financing activities. They require specific details about cash flows, interest expenses, taxes, dividends, capital expenditures, and financing activities, which are typically not found in basic financial statements like the ones provided.\n",
      "\n",
      "Unless additional information is provided regarding the company's cash flows, interest payments, taxes, dividends, capital expenditures, financing activities, and share capital structure, I cannot calculate or interpret any of the performance ratios listed based on the data available in the financial statements.\n"
     ]
    }
   ],
   "source": [
    "rm, mh = chat_with_model(mh, prompt13)"
   ]
  },
  {
   "cell_type": "code",
   "execution_count": 38,
   "id": "225198bc-440f-4886-b4c7-584bfde084fa",
   "metadata": {
    "tags": []
   },
   "outputs": [],
   "source": [
    "prompt14 = \"\"\"You are acting as a financial analyst. Can you summarize all the findings from previous prompts? Highlight the key takeaways.\"\"\"\n"
   ]
  },
  {
   "cell_type": "code",
   "execution_count": 39,
   "id": "fcf02e30-5cc8-4caa-9176-956021122bb9",
   "metadata": {
    "tags": []
   },
   "outputs": [
    {
     "name": "stdout",
     "output_type": "stream",
     "text": [
      "Based on the financial statements provided, here are the key takeaways and findings from the analysis:\n",
      "\n",
      "1. Profitability Ratios:\n",
      "   - The company has a reasonable operating profit margin (Operating ROA of 13.3%) and a moderate net profit margin (ROA of 9.3%), indicating moderate profitability from its assets.\n",
      "   - The return on total capital (12.8%) and return on equity (16.5%) suggest a reasonable level of profitability from the company's capital and shareholders' equity.\n",
      "\n",
      "2. Leverage Ratios:\n",
      "   - The company has a moderate level of leverage, with a debt-to-assets ratio of 40%, a debt-to-capital ratio of 41.4%, and a debt-to-equity ratio of 70.6%.\n",
      "   - The financial leverage ratio of 1.765 indicates a moderate level of financial leverage, with $1.765 in assets for every $1 of shareholders' equity.\n",
      "\n",
      "3. Limitations:\n",
      "   - Due to the lack of specific information, it was not possible to calculate or interpret valuation ratios, dividend-related ratios, solvency ratios, price per share ratios, segment ratios, or performance ratios related to cash flows, interest payments, taxes, dividends, and capital expenditures.\n",
      "   - The analysis was limited to the information provided in the basic financial statements (income statement, balance sheet, and cash flow statement), without additional details on share capital structure, dividend payments, interest expenses, segmented data, or cash flow components.\n",
      "\n",
      "Key Takeaway:\n",
      "The company appears to have moderate profitability and a moderate level of leverage based on the available information. However, a more comprehensive analysis was hindered by the lack of specific data points related to valuation, dividends, solvency, segment performance, and cash flow components. Additional information would be required to provide a more detailed assessment of the company's financial performance and position.\n"
     ]
    }
   ],
   "source": [
    "rm, mh = chat_with_model(mh, prompt14)"
   ]
  },
  {
   "cell_type": "code",
   "execution_count": null,
   "id": "18eeba89-62f2-48b1-a578-ed9a3c94238e",
   "metadata": {},
   "outputs": [],
   "source": []
  }
 ],
 "metadata": {
  "kernelspec": {
   "display_name": "conda_pytorch_p310",
   "language": "python",
   "name": "conda_pytorch_p310"
  },
  "language_info": {
   "codemirror_mode": {
    "name": "ipython",
    "version": 3
   },
   "file_extension": ".py",
   "mimetype": "text/x-python",
   "name": "python",
   "nbconvert_exporter": "python",
   "pygments_lexer": "ipython3",
   "version": "3.10.14"
  }
 },
 "nbformat": 4,
 "nbformat_minor": 5
}
